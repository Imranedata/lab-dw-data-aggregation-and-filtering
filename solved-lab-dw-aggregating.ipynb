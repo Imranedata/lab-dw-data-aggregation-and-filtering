{
 "cells": [
  {
   "cell_type": "markdown",
   "id": "31969215-2a90-4d8b-ac36-646a7ae13744",
   "metadata": {
    "id": "31969215-2a90-4d8b-ac36-646a7ae13744"
   },
   "source": [
    "# Lab | Data Aggregation and Filtering"
   ]
  },
  {
   "cell_type": "markdown",
   "id": "a8f08a52-bec0-439b-99cc-11d3809d8b5d",
   "metadata": {
    "id": "a8f08a52-bec0-439b-99cc-11d3809d8b5d"
   },
   "source": [
    "In this challenge, we will continue to work with customer data from an insurance company. We will use the dataset called marketing_customer_analysis.csv, which can be found at the following link:\n",
    "\n",
    "https://raw.githubusercontent.com/data-bootcamp-v4/data/main/marketing_customer_analysis.csv\n",
    "\n",
    "This dataset contains information such as customer demographics, policy details, vehicle information, and the customer's response to the last marketing campaign. Our goal is to explore and analyze this data by first performing data cleaning, formatting, and structuring."
   ]
  },
  {
   "cell_type": "markdown",
   "id": "9c98ddc5-b041-4c94-ada1-4dfee5c98e50",
   "metadata": {
    "id": "9c98ddc5-b041-4c94-ada1-4dfee5c98e50"
   },
   "source": [
    "1. Create a new DataFrame that only includes customers who have a total_claim_amount greater than $1,000 and have a response of \"Yes\" to the last marketing campaign."
   ]
  },
  {
   "cell_type": "markdown",
   "id": "b9be383e-5165-436e-80c8-57d4c757c8c3",
   "metadata": {
    "id": "b9be383e-5165-436e-80c8-57d4c757c8c3"
   },
   "source": [
    "2. Using the original Dataframe, analyze the average total_claim_amount by each policy type and gender for customers who have responded \"Yes\" to the last marketing campaign. Write your conclusions."
   ]
  },
  {
   "cell_type": "markdown",
   "id": "7050f4ac-53c5-4193-a3c0-8699b87196f0",
   "metadata": {
    "id": "7050f4ac-53c5-4193-a3c0-8699b87196f0"
   },
   "source": [
    "3. Analyze the total number of customers who have policies in each state, and then filter the results to only include states where there are more than 500 customers."
   ]
  },
  {
   "cell_type": "markdown",
   "id": "b60a4443-a1a7-4bbf-b78e-9ccdf9895e0d",
   "metadata": {
    "id": "b60a4443-a1a7-4bbf-b78e-9ccdf9895e0d"
   },
   "source": [
    "4. Find the maximum, minimum, and median customer lifetime value by education level and gender. Write your conclusions."
   ]
  },
  {
   "cell_type": "code",
   "execution_count": 7,
   "id": "f61a41ab",
   "metadata": {},
   "outputs": [
    {
     "name": "stdout",
     "output_type": "stream",
     "text": [
      "Index(['unnamed:_0', 'customer', 'state', 'customer_lifetime_value',\n",
      "       'response', 'coverage', 'education', 'effective_to_date',\n",
      "       'employmentstatus', 'gender', 'income', 'location_code',\n",
      "       'marital_status', 'monthly_premium_auto', 'months_since_last_claim',\n",
      "       'months_since_policy_inception', 'number_of_open_complaints',\n",
      "       'number_of_policies', 'policy_type', 'policy', 'renew_offer_type',\n",
      "       'sales_channel', 'total_claim_amount', 'vehicle_class', 'vehicle_size',\n",
      "       'vehicle_type'],\n",
      "      dtype='object')\n",
      "       unnamed:_0 customer       state  customer_lifetime_value response  \\\n",
      "189           189  OK31456  California             11009.130490      Yes   \n",
      "236           236  YJ16163      Oregon             11009.130490      Yes   \n",
      "419           419  GW43195      Oregon             25807.063000      Yes   \n",
      "442           442  IP94270     Arizona             13736.132500      Yes   \n",
      "587           587  FJ28407  California              5619.689084      Yes   \n",
      "...           ...      ...         ...                      ...      ...   \n",
      "10351       10351  FN44127      Oregon              3508.569533      Yes   \n",
      "10373       10373  XZ64172      Oregon             10963.957230      Yes   \n",
      "10487       10487  IX60941      Oregon              3508.569533      Yes   \n",
      "10565       10565  QO62792      Oregon              7840.165778      Yes   \n",
      "10708       10708  CK39096      Oregon              5619.689084      Yes   \n",
      "\n",
      "       coverage             education effective_to_date employmentstatus  \\\n",
      "189     Premium              Bachelor           1/24/11         Employed   \n",
      "236     Premium              Bachelor           1/24/11         Employed   \n",
      "419    Extended               College           2/13/11         Employed   \n",
      "442     Premium                Master           2/13/11         Disabled   \n",
      "587     Premium  High School or Below           1/26/11       Unemployed   \n",
      "...         ...                   ...               ...              ...   \n",
      "10351  Extended               College            1/5/11    Medical Leave   \n",
      "10373   Premium  High School or Below            2/8/11         Employed   \n",
      "10487  Extended               College            1/5/11    Medical Leave   \n",
      "10565  Extended               College           1/14/11         Employed   \n",
      "10708   Premium  High School or Below           1/26/11       Unemployed   \n",
      "\n",
      "      gender  ...  number_of_open_complaints number_of_policies  \\\n",
      "189        F  ...                        0.0                  1   \n",
      "236        F  ...                        0.0                  1   \n",
      "419        F  ...                        1.0                  2   \n",
      "442        F  ...                        0.0                  8   \n",
      "587        M  ...                        0.0                  1   \n",
      "...      ...  ...                        ...                ...   \n",
      "10351      M  ...                        1.0                  1   \n",
      "10373      M  ...                        0.0                  1   \n",
      "10487      M  ...                        1.0                  1   \n",
      "10565      M  ...                        2.0                  1   \n",
      "10708      M  ...                        0.0                  1   \n",
      "\n",
      "          policy_type        policy  renew_offer_type  sales_channel  \\\n",
      "189    Corporate Auto  Corporate L3            Offer2          Agent   \n",
      "236      Special Auto    Special L3            Offer2          Agent   \n",
      "419     Personal Auto   Personal L2            Offer1         Branch   \n",
      "442     Personal Auto   Personal L2            Offer1            Web   \n",
      "587     Personal Auto   Personal L1            Offer2            Web   \n",
      "...               ...           ...               ...            ...   \n",
      "10351   Personal Auto   Personal L2            Offer2         Branch   \n",
      "10373  Corporate Auto  Corporate L2            Offer1          Agent   \n",
      "10487   Personal Auto   Personal L3            Offer2         Branch   \n",
      "10565   Personal Auto   Personal L3            Offer2          Agent   \n",
      "10708   Personal Auto   Personal L3            Offer2            Web   \n",
      "\n",
      "       total_claim_amount  vehicle_class vehicle_size vehicle_type  \n",
      "189           1358.400000     Luxury Car      Medsize          NaN  \n",
      "236           1358.400000     Luxury Car      Medsize            A  \n",
      "419           1027.200000     Luxury Car        Small            A  \n",
      "442           1261.319869            SUV      Medsize            A  \n",
      "587           1027.000029            SUV      Medsize            A  \n",
      "...                   ...            ...          ...          ...  \n",
      "10351         1176.278800  Four-Door Car        Small          NaN  \n",
      "10373         1324.800000     Luxury SUV      Medsize          NaN  \n",
      "10487         1176.278800  Four-Door Car        Small          NaN  \n",
      "10565         1008.000000            NaN          NaN          NaN  \n",
      "10708         1027.000029            SUV      Medsize            A  \n",
      "\n",
      "[67 rows x 26 columns]\n",
      "policy_type     gender\n",
      "Corporate Auto  F         433.738499\n",
      "                M         408.582459\n",
      "Personal Auto   F         452.965929\n",
      "                M         457.010178\n",
      "Special Auto    F         453.280164\n",
      "                M         429.527942\n",
      "Name: total_claim_amount, dtype: float64\n",
      "state\n",
      "California    3552\n",
      "Oregon        2909\n",
      "Arizona       1937\n",
      "Nevada         993\n",
      "Washington     888\n",
      "Name: count, dtype: int64\n",
      "                              count         mean          std          min  \\\n",
      "education            gender                                                  \n",
      "Bachelor             F       1700.0  7874.269478  6614.107319  1904.000852   \n",
      "                     M       1572.0  7703.601675  6658.460774  1898.007675   \n",
      "College              F       1608.0  7748.823325  6678.304057  1898.683686   \n",
      "                     M       1596.0  8052.459288  6716.960507  1918.119700   \n",
      "Doctor               F        200.0  7328.508916  6930.556300  2395.570000   \n",
      "                     M        201.0  7415.333638  5460.941400  2267.604038   \n",
      "High School or Below F       1590.0  8675.220201  7497.848501  2144.921535   \n",
      "                     M       1556.0  8149.687783  7190.619899  1940.981221   \n",
      "Master               F        475.0  8157.053154  6621.774653  2417.777032   \n",
      "                     M        412.0  8168.832659  7362.156626  2272.307310   \n",
      "\n",
      "                                     25%          50%          75%  \\\n",
      "education            gender                                          \n",
      "Bachelor             F       4118.588554  5640.505303  8723.239761   \n",
      "                     M       3842.347006  5548.031892  8646.695783   \n",
      "College              F       3866.801886  5623.611187  8714.922135   \n",
      "                     M       4035.902621  6005.847375  9157.757714   \n",
      "Doctor               F       3531.281803  5332.462694  7662.703676   \n",
      "                     M       3557.368368  5577.669457  8828.380695   \n",
      "High School or Below F       4158.278110  6039.553187  9457.340070   \n",
      "                     M       4197.681981  6286.731006  9002.190432   \n",
      "Master               F       4061.874865  5729.855012  9264.035235   \n",
      "                     M       3933.033944  5579.099207  9031.077409   \n",
      "\n",
      "                                     max  \n",
      "education            gender               \n",
      "Bachelor             F       73225.95652  \n",
      "                     M       67907.27050  \n",
      "College              F       61850.18803  \n",
      "                     M       61134.68307  \n",
      "Doctor               F       44856.11397  \n",
      "                     M       32677.34284  \n",
      "High School or Below F       55277.44589  \n",
      "                     M       83325.38119  \n",
      "Master               F       51016.06704  \n",
      "                     M       50568.25912  \n"
     ]
    }
   ],
   "source": [
    "import pandas as pd\n",
    "import numpy as np\n",
    "\n",
    "data = pd.read_csv('https://raw.githubusercontent.com/data-bootcamp-v4/data/main/marketing_customer_analysis.csv')\n",
    "\n",
    "columns = data.columns\n",
    "\n",
    "data.columns = data.columns.str.lower().str.replace(' ', '_').str.replace('custateomer','customer')\n",
    "\n",
    "print(data.columns)\n",
    "\n",
    "filtered_data = data[(data['total_claim_amount'] > 1000) & (data['response'] == 'Yes')]\n",
    "\n",
    "\n",
    "print(filtered_data)\n",
    "\n",
    "\n",
    "filtered = data[data['response'] == 'Yes']\n",
    "\n",
    "\n",
    "data2 = filtered.groupby(['policy_type', 'gender'])['total_claim_amount'].mean()\n",
    "\n",
    "print(data2)\n",
    "\n",
    "\n",
    "number_customers = data['state'].value_counts()\n",
    "\n",
    "\n",
    "filtered_states = number_customers[number_customers > 500]\n",
    "\n",
    "\n",
    "print(filtered_states)\n",
    "\n",
    "customer_lifetime = data.groupby(['education', 'gender'])['customer_lifetime_value'].describe()\n",
    "\n",
    "print(customer_lifetime)"
   ]
  },
  {
   "cell_type": "markdown",
   "id": "b42999f9-311f-481e-ae63-40a5577072c5",
   "metadata": {
    "id": "b42999f9-311f-481e-ae63-40a5577072c5"
   },
   "source": [
    "## Bonus"
   ]
  },
  {
   "cell_type": "markdown",
   "id": "81ff02c5-6584-4f21-a358-b918697c6432",
   "metadata": {
    "id": "81ff02c5-6584-4f21-a358-b918697c6432"
   },
   "source": [
    "5. The marketing team wants to analyze the number of policies sold by state and month. Present the data in a table where the months are arranged as columns and the states are arranged as rows."
   ]
  },
  {
   "cell_type": "markdown",
   "id": "b6aec097-c633-4017-a125-e77a97259cda",
   "metadata": {
    "id": "b6aec097-c633-4017-a125-e77a97259cda"
   },
   "source": [
    "6.  Display a new DataFrame that contains the number of policies sold by month, by state, for the top 3 states with the highest number of policies sold.\n",
    "\n",
    "*Hint:*\n",
    "- *To accomplish this, you will first need to group the data by state and month, then count the number of policies sold for each group. Afterwards, you will need to sort the data by the count of policies sold in descending order.*\n",
    "- *Next, you will select the top 3 states with the highest number of policies sold.*\n",
    "- *Finally, you will create a new DataFrame that contains the number of policies sold by month for each of the top 3 states.*"
   ]
  },
  {
   "cell_type": "markdown",
   "id": "ba975b8a-a2cf-4fbf-9f59-ebc381767009",
   "metadata": {
    "id": "ba975b8a-a2cf-4fbf-9f59-ebc381767009"
   },
   "source": [
    "7. The marketing team wants to analyze the effect of different marketing channels on the customer response rate.\n",
    "\n",
    "Hint: You can use melt to unpivot the data and create a table that shows the customer response rate (those who responded \"Yes\") by marketing channel."
   ]
  },
  {
   "cell_type": "markdown",
   "id": "e4378d94-48fb-4850-a802-b1bc8f427b2d",
   "metadata": {
    "id": "e4378d94-48fb-4850-a802-b1bc8f427b2d"
   },
   "source": [
    "External Resources for Data Filtering: https://towardsdatascience.com/filtering-data-frames-in-pandas-b570b1f834b9"
   ]
  },
  {
   "cell_type": "code",
   "execution_count": null,
   "id": "449513f4-0459-46a0-a18d-9398d974c9ad",
   "metadata": {
    "id": "449513f4-0459-46a0-a18d-9398d974c9ad"
   },
   "outputs": [],
   "source": [
    "# your code goes here"
   ]
  }
 ],
 "metadata": {
  "colab": {
   "provenance": []
  },
  "kernelspec": {
   "display_name": "Python 3 (ipykernel)",
   "language": "python",
   "name": "python3"
  },
  "language_info": {
   "codemirror_mode": {
    "name": "ipython",
    "version": 3
   },
   "file_extension": ".py",
   "mimetype": "text/x-python",
   "name": "python",
   "nbconvert_exporter": "python",
   "pygments_lexer": "ipython3",
   "version": "3.11.5"
  }
 },
 "nbformat": 4,
 "nbformat_minor": 5
}
